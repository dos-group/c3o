{
 "cells": [
  {
   "cell_type": "markdown",
   "metadata": {},
   "source": [
    "# C3O Paper: Performance Model Evalutation "
   ]
  },
  {
   "cell_type": "code",
   "execution_count": 1,
   "metadata": {},
   "outputs": [],
   "source": [
    "import sys\n",
    "sys.path.insert(0, '..')\n",
    "import collections\n",
    "\n",
    "import pandas as pd\n",
    "import numpy as np\n",
    "from sklearn.model_selection import train_test_split\n",
    "from sklearn.metrics import mean_absolute_percentage_error as MAPE\n",
    "from IPython.display import display, HTML\n",
    "from ipywidgets import IntProgress\n",
    "\n",
    "from RuntimePrediction.Predict import Predictor as C3OPredictor\n",
    "from RuntimePrediction.DefaultModels import (GradientBoosting as GB,\n",
    "                                             ErnestModel as EM)\n",
    "from RuntimePrediction.CustomModels import (BasicOptimisticModel as BOM,\n",
    "                                            OptimisticGradientBoosting as OGB)"
   ]
  },
  {
   "cell_type": "markdown",
   "metadata": {},
   "source": [
    "## Define Models"
   ]
  },
  {
   "cell_type": "code",
   "execution_count": 2,
   "metadata": {},
   "outputs": [],
   "source": [
    "Model = collections.namedtuple('Model', ['name', 'predictor', 'kwargs'])\n",
    "\n",
    "models = [\n",
    "          Model('Ernest', EM, {}),\n",
    "          Model('GBM', GB, {}), \n",
    "          \n",
    "          Model('BOM', BOM, {}), \n",
    "          Model('OGB', OGB, {}), \n",
    "   \n",
    "          Model('C3O', C3OPredictor, {}),\n",
    "         ]"
   ]
  },
  {
   "cell_type": "markdown",
   "metadata": {},
   "source": [
    "## Extract Runtime Data"
   ]
  },
  {
   "cell_type": "code",
   "execution_count": 3,
   "metadata": {},
   "outputs": [],
   "source": [
    "sort_df = pd.read_csv('../data/sort.tsv', sep='\\t')\n",
    "grep_df = pd.read_csv('../data/grep.tsv', sep='\\t')\n",
    "sgd_df = pd.read_csv('../data/sgd.tsv', sep='\\t')\n",
    "kmeans_df = pd.read_csv('../data/kmeans.tsv', sep='\\t')\n",
    "pagerank_df = pd.read_csv('../data/pagerank.tsv', sep='\\t')"
   ]
  },
  {
   "cell_type": "code",
   "execution_count": 4,
   "metadata": {
    "scrolled": false
   },
   "outputs": [],
   "source": [
    "Job = collections.namedtuple('Job', ['name', 'X', 'y'])\n",
    "\n",
    "def get_training_data(df, features, filters):\n",
    "    # Get medians\n",
    "    g = df.groupby(by=['instance_count','machine_type']+features)\n",
    "    df = pd.DataFrame(g.median().to_records())\n",
    "    # Apply filters \n",
    "    # e.g. only for one machine type each, the full c3o-experiments were conducted\n",
    "    # No full cartesian product!\n",
    "    for k, s, v in filters:\n",
    "        if s == '==': df = df[df[k] == v] \n",
    "        if s == '>' : df = df[df[k] >  v]\n",
    "    X = df[['instance_count'] + features]\n",
    "    y = (df[['gross_runtime']]).squeeze()\n",
    "    return X, y\n",
    "\n",
    "td = get_training_data\n",
    "jobs = [\n",
    "    Job('Sort',\n",
    "        *(td(sort_df,\n",
    "            ['data_size_MB'],\n",
    "            [('machine_type', '==', 'c4.2xlarge'),\n",
    "             ('line_length', '==', 100)] )) ),\n",
    "    Job('Grep',\n",
    "        *(td(grep_df,\n",
    "            ['data_size_MB', 'p_occurrence'],\n",
    "            [('machine_type', '==', 'm4.2xlarge')] )) ),\n",
    "    Job('SGDLR',\n",
    "        *(td(sgd_df,\n",
    "            ['observations', 'features', 'iterations'],\n",
    "            [('machine_type', '==', 'r4.2xlarge'),\n",
    "             ('instance_count', '>', 2)] )) ),\n",
    "    Job('K-Means',\n",
    "        *(td(kmeans_df,\n",
    "            ['observations', 'features', 'k'],\n",
    "            [('machine_type', '==', 'r4.2xlarge'),\n",
    "             ('instance_count', '>', 2)] )) ),\n",
    "    Job('Page Rank',\n",
    "        *(td(pagerank_df,\n",
    "            ['links', 'pages', 'convergence_criterion'],\n",
    "            [('machine_type', '==', 'r4.2xlarge')] )) ),\n",
    "]"
   ]
  },
  {
   "cell_type": "markdown",
   "metadata": {},
   "source": [
    "## Train-Test Split Creations"
   ]
  },
  {
   "cell_type": "code",
   "execution_count": 5,
   "metadata": {},
   "outputs": [],
   "source": [
    "common_features = {'Grep': ['p_occurrence'],\n",
    "                   'SGDLR': ['iterations'],\n",
    "                   'K-Means': ['k'],\n",
    "                   'Page Rank': ['pages', 'convergence_criterion']}\n",
    "\n",
    "def get_groups(X, y, common_features):\n",
    "    # Get groups of observations that share the same value for certain features\n",
    "    Xy = X.merge(y, right_index=True, left_index=True)\n",
    "    grouped = Xy.groupby(by=common_features, as_index=True)\n",
    "    X_keys, y_keys = [k for k in Xy.keys() if k != 'gross_runtime'], ['gross_runtime']\n",
    "    Xs = [group[X_keys] for name, group in grouped]\n",
    "    ys = [group[y_keys].squeeze() for name, group in grouped]\n",
    "    return Xs, ys"
   ]
  },
  {
   "cell_type": "code",
   "execution_count": 6,
   "metadata": {},
   "outputs": [],
   "source": [
    "def create_local_training_data(job, splits, test_size=.1):\n",
    "    # Get groups of local data (again creates several splits)\n",
    "    counter = 0\n",
    "    while True:\n",
    "        for X, y in zip(*get_groups(job.X, job.y, common_features[job.name])):  \n",
    "            if counter >= splits: return\n",
    "            yield train_test_split(X, y, test_size=test_size); counter += 1\n",
    "                \n",
    "def create_global_training_data(job, splits, test_size=.1):\n",
    "    for _ in range(splits):\n",
    "        yield train_test_split(job.X,job.y,test_size=test_size)"
   ]
  },
  {
   "cell_type": "markdown",
   "metadata": {},
   "source": [
    "## Evaluate Models on the Training Datasets"
   ]
  },
  {
   "cell_type": "code",
   "execution_count": 7,
   "metadata": {},
   "outputs": [
    {
     "data": {
      "text/html": [
       "<style>      .output {flex-direction: row; flex-wrap: wrap}      div.output_subarea {padding-left: 0mm; padding-right:3mm}      </style>"
      ],
      "text/plain": [
       "<IPython.core.display.HTML object>"
      ]
     },
     "execution_count": 7,
     "metadata": {},
     "output_type": "execute_result"
    }
   ],
   "source": [
    "# Display tables side by side and get rid of horizontal scroll bar under tables\n",
    "HTML('''<style> \\\n",
    "     .output {flex-direction: row; flex-wrap: wrap} \\\n",
    "     div.output_subarea {padding-left: 0mm; padding-right:3mm} \\\n",
    "     </style>''')"
   ]
  },
  {
   "cell_type": "code",
   "execution_count": 8,
   "metadata": {},
   "outputs": [],
   "source": [
    "def display_evaluation_counts(job_name):\n",
    "    \n",
    "    try: results = pd.read_csv('performance_results.csv', header=None)\n",
    "    except: display(HTML(f\"<h3>{job_name}</h3> None\")); return\n",
    "    \n",
    "    rres = [(job, model, ds, round(float(mape),4)) for job, model, ds, mape in results.values]\n",
    "    df = pd.DataFrame(rres, columns = ('Job', 'Model', 'Dataset', 'MAPE'))\n",
    "    groups = df.groupby(by=['Job', 'Model', 'Dataset'], as_index=False)\n",
    "    amounts = [(*group_key, len(instances)) for group_key, instances in groups]\n",
    "    df = pd.DataFrame(amounts, columns=('Job', 'Model', 'Dataset', 'Amount'))\n",
    "    \n",
    "    # Filter info for just the job we are interested in\n",
    "    jobdf = df[df['Job'] == job_name].set_index(['Model', 'Dataset'])[['Amount']].unstack()\n",
    "    # Remove redundant info\n",
    "    columns = (list(map(lambda x: x[1], jobdf.columns)))  # Puts global and local in order\n",
    "    displaydf = pd.DataFrame(jobdf.values, index=jobdf.index, columns=columns)    \n",
    "    \n",
    "    # axis=None for whole table\n",
    "    try: table_html = displaydf.style._repr_html_()\n",
    "    except: table_html = \"None\"\n",
    "    \n",
    "    display(HTML(f\"<h3>{job_name}</h3>\" + table_html ))"
   ]
  },
  {
   "cell_type": "markdown",
   "metadata": {},
   "source": [
    "### Amount of Conducted Evaluation Experiments Thus Far"
   ]
  },
  {
   "cell_type": "code",
   "execution_count": 9,
   "metadata": {},
   "outputs": [
    {
     "data": {
      "text/html": [
       "<h3>Sort</h3><style  type=\"text/css\" >\n",
       "</style><table id=\"T_9c4054a6_9afa_11eb_9445_c8e265328624\" ><thead>    <tr>        <th class=\"blank level0\" ></th>        <th class=\"col_heading level0 col0\" >global</th>    </tr>    <tr>        <th class=\"index_name level0\" >Model</th>        <th class=\"blank\" ></th>    </tr></thead><tbody>\n",
       "                <tr>\n",
       "                        <th id=\"T_9c4054a6_9afa_11eb_9445_c8e265328624level0_row0\" class=\"row_heading level0 row0\" >BOM</th>\n",
       "                        <td id=\"T_9c4054a6_9afa_11eb_9445_c8e265328624row0_col0\" class=\"data row0 col0\" >300</td>\n",
       "            </tr>\n",
       "            <tr>\n",
       "                        <th id=\"T_9c4054a6_9afa_11eb_9445_c8e265328624level0_row1\" class=\"row_heading level0 row1\" >C3O</th>\n",
       "                        <td id=\"T_9c4054a6_9afa_11eb_9445_c8e265328624row1_col0\" class=\"data row1 col0\" >300</td>\n",
       "            </tr>\n",
       "            <tr>\n",
       "                        <th id=\"T_9c4054a6_9afa_11eb_9445_c8e265328624level0_row2\" class=\"row_heading level0 row2\" >Ernest</th>\n",
       "                        <td id=\"T_9c4054a6_9afa_11eb_9445_c8e265328624row2_col0\" class=\"data row2 col0\" >300</td>\n",
       "            </tr>\n",
       "            <tr>\n",
       "                        <th id=\"T_9c4054a6_9afa_11eb_9445_c8e265328624level0_row3\" class=\"row_heading level0 row3\" >GBM</th>\n",
       "                        <td id=\"T_9c4054a6_9afa_11eb_9445_c8e265328624row3_col0\" class=\"data row3 col0\" >300</td>\n",
       "            </tr>\n",
       "            <tr>\n",
       "                        <th id=\"T_9c4054a6_9afa_11eb_9445_c8e265328624level0_row4\" class=\"row_heading level0 row4\" >OGB</th>\n",
       "                        <td id=\"T_9c4054a6_9afa_11eb_9445_c8e265328624row4_col0\" class=\"data row4 col0\" >300</td>\n",
       "            </tr>\n",
       "    </tbody></table>"
      ],
      "text/plain": [
       "<IPython.core.display.HTML object>"
      ]
     },
     "metadata": {},
     "output_type": "display_data"
    },
    {
     "data": {
      "text/html": [
       "<h3>Grep</h3><style  type=\"text/css\" >\n",
       "</style><table id=\"T_9c46aa68_9afa_11eb_9445_c8e265328624\" ><thead>    <tr>        <th class=\"blank level0\" ></th>        <th class=\"col_heading level0 col0\" >global</th>        <th class=\"col_heading level0 col1\" >local</th>    </tr>    <tr>        <th class=\"index_name level0\" >Model</th>        <th class=\"blank\" ></th>        <th class=\"blank\" ></th>    </tr></thead><tbody>\n",
       "                <tr>\n",
       "                        <th id=\"T_9c46aa68_9afa_11eb_9445_c8e265328624level0_row0\" class=\"row_heading level0 row0\" >BOM</th>\n",
       "                        <td id=\"T_9c46aa68_9afa_11eb_9445_c8e265328624row0_col0\" class=\"data row0 col0\" >300</td>\n",
       "                        <td id=\"T_9c46aa68_9afa_11eb_9445_c8e265328624row0_col1\" class=\"data row0 col1\" >300</td>\n",
       "            </tr>\n",
       "            <tr>\n",
       "                        <th id=\"T_9c46aa68_9afa_11eb_9445_c8e265328624level0_row1\" class=\"row_heading level0 row1\" >C3O</th>\n",
       "                        <td id=\"T_9c46aa68_9afa_11eb_9445_c8e265328624row1_col0\" class=\"data row1 col0\" >300</td>\n",
       "                        <td id=\"T_9c46aa68_9afa_11eb_9445_c8e265328624row1_col1\" class=\"data row1 col1\" >300</td>\n",
       "            </tr>\n",
       "            <tr>\n",
       "                        <th id=\"T_9c46aa68_9afa_11eb_9445_c8e265328624level0_row2\" class=\"row_heading level0 row2\" >Ernest</th>\n",
       "                        <td id=\"T_9c46aa68_9afa_11eb_9445_c8e265328624row2_col0\" class=\"data row2 col0\" >300</td>\n",
       "                        <td id=\"T_9c46aa68_9afa_11eb_9445_c8e265328624row2_col1\" class=\"data row2 col1\" >300</td>\n",
       "            </tr>\n",
       "            <tr>\n",
       "                        <th id=\"T_9c46aa68_9afa_11eb_9445_c8e265328624level0_row3\" class=\"row_heading level0 row3\" >GBM</th>\n",
       "                        <td id=\"T_9c46aa68_9afa_11eb_9445_c8e265328624row3_col0\" class=\"data row3 col0\" >300</td>\n",
       "                        <td id=\"T_9c46aa68_9afa_11eb_9445_c8e265328624row3_col1\" class=\"data row3 col1\" >300</td>\n",
       "            </tr>\n",
       "            <tr>\n",
       "                        <th id=\"T_9c46aa68_9afa_11eb_9445_c8e265328624level0_row4\" class=\"row_heading level0 row4\" >OGB</th>\n",
       "                        <td id=\"T_9c46aa68_9afa_11eb_9445_c8e265328624row4_col0\" class=\"data row4 col0\" >300</td>\n",
       "                        <td id=\"T_9c46aa68_9afa_11eb_9445_c8e265328624row4_col1\" class=\"data row4 col1\" >300</td>\n",
       "            </tr>\n",
       "    </tbody></table>"
      ],
      "text/plain": [
       "<IPython.core.display.HTML object>"
      ]
     },
     "metadata": {},
     "output_type": "display_data"
    },
    {
     "data": {
      "text/html": [
       "<h3>SGDLR</h3><style  type=\"text/css\" >\n",
       "</style><table id=\"T_9c4c6fac_9afa_11eb_9445_c8e265328624\" ><thead>    <tr>        <th class=\"blank level0\" ></th>        <th class=\"col_heading level0 col0\" >global</th>        <th class=\"col_heading level0 col1\" >local</th>    </tr>    <tr>        <th class=\"index_name level0\" >Model</th>        <th class=\"blank\" ></th>        <th class=\"blank\" ></th>    </tr></thead><tbody>\n",
       "                <tr>\n",
       "                        <th id=\"T_9c4c6fac_9afa_11eb_9445_c8e265328624level0_row0\" class=\"row_heading level0 row0\" >BOM</th>\n",
       "                        <td id=\"T_9c4c6fac_9afa_11eb_9445_c8e265328624row0_col0\" class=\"data row0 col0\" >300</td>\n",
       "                        <td id=\"T_9c4c6fac_9afa_11eb_9445_c8e265328624row0_col1\" class=\"data row0 col1\" >300</td>\n",
       "            </tr>\n",
       "            <tr>\n",
       "                        <th id=\"T_9c4c6fac_9afa_11eb_9445_c8e265328624level0_row1\" class=\"row_heading level0 row1\" >C3O</th>\n",
       "                        <td id=\"T_9c4c6fac_9afa_11eb_9445_c8e265328624row1_col0\" class=\"data row1 col0\" >300</td>\n",
       "                        <td id=\"T_9c4c6fac_9afa_11eb_9445_c8e265328624row1_col1\" class=\"data row1 col1\" >300</td>\n",
       "            </tr>\n",
       "            <tr>\n",
       "                        <th id=\"T_9c4c6fac_9afa_11eb_9445_c8e265328624level0_row2\" class=\"row_heading level0 row2\" >Ernest</th>\n",
       "                        <td id=\"T_9c4c6fac_9afa_11eb_9445_c8e265328624row2_col0\" class=\"data row2 col0\" >300</td>\n",
       "                        <td id=\"T_9c4c6fac_9afa_11eb_9445_c8e265328624row2_col1\" class=\"data row2 col1\" >300</td>\n",
       "            </tr>\n",
       "            <tr>\n",
       "                        <th id=\"T_9c4c6fac_9afa_11eb_9445_c8e265328624level0_row3\" class=\"row_heading level0 row3\" >GBM</th>\n",
       "                        <td id=\"T_9c4c6fac_9afa_11eb_9445_c8e265328624row3_col0\" class=\"data row3 col0\" >300</td>\n",
       "                        <td id=\"T_9c4c6fac_9afa_11eb_9445_c8e265328624row3_col1\" class=\"data row3 col1\" >300</td>\n",
       "            </tr>\n",
       "            <tr>\n",
       "                        <th id=\"T_9c4c6fac_9afa_11eb_9445_c8e265328624level0_row4\" class=\"row_heading level0 row4\" >OGB</th>\n",
       "                        <td id=\"T_9c4c6fac_9afa_11eb_9445_c8e265328624row4_col0\" class=\"data row4 col0\" >300</td>\n",
       "                        <td id=\"T_9c4c6fac_9afa_11eb_9445_c8e265328624row4_col1\" class=\"data row4 col1\" >300</td>\n",
       "            </tr>\n",
       "    </tbody></table>"
      ],
      "text/plain": [
       "<IPython.core.display.HTML object>"
      ]
     },
     "metadata": {},
     "output_type": "display_data"
    },
    {
     "data": {
      "text/html": [
       "<h3>K-Means</h3><style  type=\"text/css\" >\n",
       "</style><table id=\"T_9c51f7f6_9afa_11eb_9445_c8e265328624\" ><thead>    <tr>        <th class=\"blank level0\" ></th>        <th class=\"col_heading level0 col0\" >global</th>        <th class=\"col_heading level0 col1\" >local</th>    </tr>    <tr>        <th class=\"index_name level0\" >Model</th>        <th class=\"blank\" ></th>        <th class=\"blank\" ></th>    </tr></thead><tbody>\n",
       "                <tr>\n",
       "                        <th id=\"T_9c51f7f6_9afa_11eb_9445_c8e265328624level0_row0\" class=\"row_heading level0 row0\" >BOM</th>\n",
       "                        <td id=\"T_9c51f7f6_9afa_11eb_9445_c8e265328624row0_col0\" class=\"data row0 col0\" >300</td>\n",
       "                        <td id=\"T_9c51f7f6_9afa_11eb_9445_c8e265328624row0_col1\" class=\"data row0 col1\" >300</td>\n",
       "            </tr>\n",
       "            <tr>\n",
       "                        <th id=\"T_9c51f7f6_9afa_11eb_9445_c8e265328624level0_row1\" class=\"row_heading level0 row1\" >C3O</th>\n",
       "                        <td id=\"T_9c51f7f6_9afa_11eb_9445_c8e265328624row1_col0\" class=\"data row1 col0\" >300</td>\n",
       "                        <td id=\"T_9c51f7f6_9afa_11eb_9445_c8e265328624row1_col1\" class=\"data row1 col1\" >300</td>\n",
       "            </tr>\n",
       "            <tr>\n",
       "                        <th id=\"T_9c51f7f6_9afa_11eb_9445_c8e265328624level0_row2\" class=\"row_heading level0 row2\" >Ernest</th>\n",
       "                        <td id=\"T_9c51f7f6_9afa_11eb_9445_c8e265328624row2_col0\" class=\"data row2 col0\" >300</td>\n",
       "                        <td id=\"T_9c51f7f6_9afa_11eb_9445_c8e265328624row2_col1\" class=\"data row2 col1\" >300</td>\n",
       "            </tr>\n",
       "            <tr>\n",
       "                        <th id=\"T_9c51f7f6_9afa_11eb_9445_c8e265328624level0_row3\" class=\"row_heading level0 row3\" >GBM</th>\n",
       "                        <td id=\"T_9c51f7f6_9afa_11eb_9445_c8e265328624row3_col0\" class=\"data row3 col0\" >300</td>\n",
       "                        <td id=\"T_9c51f7f6_9afa_11eb_9445_c8e265328624row3_col1\" class=\"data row3 col1\" >300</td>\n",
       "            </tr>\n",
       "            <tr>\n",
       "                        <th id=\"T_9c51f7f6_9afa_11eb_9445_c8e265328624level0_row4\" class=\"row_heading level0 row4\" >OGB</th>\n",
       "                        <td id=\"T_9c51f7f6_9afa_11eb_9445_c8e265328624row4_col0\" class=\"data row4 col0\" >300</td>\n",
       "                        <td id=\"T_9c51f7f6_9afa_11eb_9445_c8e265328624row4_col1\" class=\"data row4 col1\" >300</td>\n",
       "            </tr>\n",
       "    </tbody></table>"
      ],
      "text/plain": [
       "<IPython.core.display.HTML object>"
      ]
     },
     "metadata": {},
     "output_type": "display_data"
    },
    {
     "data": {
      "text/html": [
       "<h3>Page Rank</h3><style  type=\"text/css\" >\n",
       "</style><table id=\"T_9c5778f2_9afa_11eb_9445_c8e265328624\" ><thead>    <tr>        <th class=\"blank level0\" ></th>        <th class=\"col_heading level0 col0\" >global</th>        <th class=\"col_heading level0 col1\" >local</th>    </tr>    <tr>        <th class=\"index_name level0\" >Model</th>        <th class=\"blank\" ></th>        <th class=\"blank\" ></th>    </tr></thead><tbody>\n",
       "                <tr>\n",
       "                        <th id=\"T_9c5778f2_9afa_11eb_9445_c8e265328624level0_row0\" class=\"row_heading level0 row0\" >BOM</th>\n",
       "                        <td id=\"T_9c5778f2_9afa_11eb_9445_c8e265328624row0_col0\" class=\"data row0 col0\" >300</td>\n",
       "                        <td id=\"T_9c5778f2_9afa_11eb_9445_c8e265328624row0_col1\" class=\"data row0 col1\" >300</td>\n",
       "            </tr>\n",
       "            <tr>\n",
       "                        <th id=\"T_9c5778f2_9afa_11eb_9445_c8e265328624level0_row1\" class=\"row_heading level0 row1\" >C3O</th>\n",
       "                        <td id=\"T_9c5778f2_9afa_11eb_9445_c8e265328624row1_col0\" class=\"data row1 col0\" >300</td>\n",
       "                        <td id=\"T_9c5778f2_9afa_11eb_9445_c8e265328624row1_col1\" class=\"data row1 col1\" >300</td>\n",
       "            </tr>\n",
       "            <tr>\n",
       "                        <th id=\"T_9c5778f2_9afa_11eb_9445_c8e265328624level0_row2\" class=\"row_heading level0 row2\" >Ernest</th>\n",
       "                        <td id=\"T_9c5778f2_9afa_11eb_9445_c8e265328624row2_col0\" class=\"data row2 col0\" >300</td>\n",
       "                        <td id=\"T_9c5778f2_9afa_11eb_9445_c8e265328624row2_col1\" class=\"data row2 col1\" >300</td>\n",
       "            </tr>\n",
       "            <tr>\n",
       "                        <th id=\"T_9c5778f2_9afa_11eb_9445_c8e265328624level0_row3\" class=\"row_heading level0 row3\" >GBM</th>\n",
       "                        <td id=\"T_9c5778f2_9afa_11eb_9445_c8e265328624row3_col0\" class=\"data row3 col0\" >300</td>\n",
       "                        <td id=\"T_9c5778f2_9afa_11eb_9445_c8e265328624row3_col1\" class=\"data row3 col1\" >300</td>\n",
       "            </tr>\n",
       "            <tr>\n",
       "                        <th id=\"T_9c5778f2_9afa_11eb_9445_c8e265328624level0_row4\" class=\"row_heading level0 row4\" >OGB</th>\n",
       "                        <td id=\"T_9c5778f2_9afa_11eb_9445_c8e265328624row4_col0\" class=\"data row4 col0\" >300</td>\n",
       "                        <td id=\"T_9c5778f2_9afa_11eb_9445_c8e265328624row4_col1\" class=\"data row4 col1\" >300</td>\n",
       "            </tr>\n",
       "    </tbody></table>"
      ],
      "text/plain": [
       "<IPython.core.display.HTML object>"
      ]
     },
     "metadata": {},
     "output_type": "display_data"
    }
   ],
   "source": [
    "for job in jobs:\n",
    "    display_evaluation_counts(job.name)"
   ]
  },
  {
   "cell_type": "markdown",
   "metadata": {},
   "source": [
    "### Calculating the Model Prediction Errors"
   ]
  },
  {
   "cell_type": "code",
   "execution_count": 10,
   "metadata": {},
   "outputs": [],
   "source": [
    "def evaluate(model, X_train, X_test, y_train, y_test, error_metric):\n",
    "    model_instance = model.predictor(**model.kwargs)\n",
    "    model_instance.fit(X_train, y_train)\n",
    "    y_pred = model_instance.predict(X_test)\n",
    "    error = error_metric(y_test, y_pred)\n",
    "    return error"
   ]
  },
  {
   "cell_type": "code",
   "execution_count": 11,
   "metadata": {
    "scrolled": true
   },
   "outputs": [],
   "source": [
    "def create_new_global_evaluations(amount):\n",
    "    progress_bar = IntProgress(min=0, max=len(jobs)*amount); display(progress_bar)\n",
    "    with open('performance_results.csv', 'at') as f:\n",
    "        for job in jobs:\n",
    "            for split in create_global_training_data(job, splits=amount):\n",
    "                for model in models:\n",
    "                    error = evaluate(model, *split, MAPE)\n",
    "                    f.write(f\"{job.name},{model.name},global,{error}\\n\")\n",
    "                progress_bar.value += 1\n",
    "                    \n",
    "def create_new_local_evaluations(amount):\n",
    "    progress_bar = IntProgress(min=0, max=len(jobs[1:])*amount); display(progress_bar)\n",
    "    with open('performance_results.csv', 'at') as f:\n",
    "        for job in jobs[1:]:\n",
    "            for split in create_local_training_data(job, splits=amount):\n",
    "                for model in models:\n",
    "                    error = evaluate(model, *split, MAPE)\n",
    "                    f.write(f\"{job.name},{model.name},local,{error}\\n\")\n",
    "                progress_bar.value += 1"
   ]
  },
  {
   "cell_type": "markdown",
   "metadata": {},
   "source": [
    "### Conduct Additional Model Evaluation Experiments"
   ]
  },
  {
   "cell_type": "code",
   "execution_count": 12,
   "metadata": {},
   "outputs": [
    {
     "data": {
      "application/vnd.jupyter.widget-view+json": {
       "model_id": "f18a5677769f4794a4fb2af0edbfc3ea",
       "version_major": 2,
       "version_minor": 0
      },
      "text/plain": [
       "IntProgress(value=0, max=0)"
      ]
     },
     "metadata": {},
     "output_type": "display_data"
    }
   ],
   "source": [
    "create_new_global_evaluations(amount=0)"
   ]
  },
  {
   "cell_type": "code",
   "execution_count": 13,
   "metadata": {},
   "outputs": [
    {
     "data": {
      "application/vnd.jupyter.widget-view+json": {
       "model_id": "c5faf43d46494a0e8242cfd2994a8fec",
       "version_major": 2,
       "version_minor": 0
      },
      "text/plain": [
       "IntProgress(value=0, max=0)"
      ]
     },
     "metadata": {},
     "output_type": "display_data"
    }
   ],
   "source": [
    "create_new_local_evaluations(amount=0)"
   ]
  },
  {
   "cell_type": "markdown",
   "metadata": {},
   "source": [
    "### Display the Results"
   ]
  },
  {
   "cell_type": "code",
   "execution_count": 14,
   "metadata": {},
   "outputs": [],
   "source": [
    "def display_job_evaluation(job_name):\n",
    "    \n",
    "    try: results = pd.read_csv('performance_results.csv', header=None)\n",
    "    except: print(\"No evaluation results thus far\"); return\n",
    "    \n",
    "    rres = [(job, model, ds, round(float(mape),4)) for job, model, ds, mape in results.values]\n",
    "    df = pd.DataFrame(rres, columns = ('Job', 'Model', 'Dataset', 'MAPE'))\n",
    "    groups = df.groupby(by=['Job', 'Model', 'Dataset'], as_index=False)\n",
    "    df = groups.mean()\n",
    "    # Filter info for just the job we are interested in\n",
    "    jobdf = df[df['Job'] == job_name].set_index(['Model', 'Dataset'])[['MAPE']].unstack()\n",
    "    # Remove redundant info\n",
    "    columns = (list(map(lambda x: x[1], jobdf.columns)))  # Puts global and local in order\n",
    "    displaydf = pd.DataFrame(jobdf.values, index=jobdf.index, columns=columns)    \n",
    "    \n",
    "    # Style the output to highlight the important information\n",
    "    def highlight_row_min(row):\n",
    "        return ['color: black' if cell == min(row) else 'color: dimgray' for cell in row]\n",
    "    \n",
    "    def highlight_min(data, color='aquamarine', bold=False):\n",
    "        # highlight the minimum in a Series or DataFrame\n",
    "        attr1 = f\"background-color: {color}\"\n",
    "        attr2 = f\"font-weight: {'bold' if bold else 'normal'}\"\n",
    "        if data.ndim == 1:  # Series from .apply(axis=0) or axis=1\n",
    "            is_min = data == data.min()\n",
    "            return [attr1 if v else '' for v in is_min]\n",
    "        else:  # from .apply(axis=None)\n",
    "            is_min = data == data.min().min()\n",
    "            return pd.DataFrame(np.where(is_min, attr2, ''),\n",
    "                                index=data.index, columns=data.columns)\n",
    "        \n",
    "    table_html = displaydf.style.apply(highlight_row_min,axis=1) \\\n",
    "                                .apply(highlight_min, axis=0, color='aquamarine') \\\n",
    "                                .apply(highlight_min, axis=None, bold=True) \\\n",
    "                                .format(\"{:.2%}\") \\\n",
    "                                ._repr_html_()\n",
    "    \n",
    "    display(HTML(f\"<h3>{job_name}</h3>\" + table_html ))"
   ]
  },
  {
   "cell_type": "markdown",
   "metadata": {},
   "source": [
    "### Performance of the C3O Predictor and its Constituent Models"
   ]
  },
  {
   "cell_type": "code",
   "execution_count": 15,
   "metadata": {},
   "outputs": [
    {
     "data": {
      "text/html": [
       "<h3>Sort</h3><style  type=\"text/css\" >\n",
       "#T_9c6bbeac_9afa_11eb_9445_c8e265328624row0_col0,#T_9c6bbeac_9afa_11eb_9445_c8e265328624row2_col0,#T_9c6bbeac_9afa_11eb_9445_c8e265328624row3_col0{\n",
       "            color:  black;\n",
       "        }#T_9c6bbeac_9afa_11eb_9445_c8e265328624row1_col0,#T_9c6bbeac_9afa_11eb_9445_c8e265328624row4_col0{\n",
       "            color:  black;\n",
       "            background-color:  aquamarine;\n",
       "            font-weight:  bold;\n",
       "        }</style><table id=\"T_9c6bbeac_9afa_11eb_9445_c8e265328624\" ><thead>    <tr>        <th class=\"blank level0\" ></th>        <th class=\"col_heading level0 col0\" >global</th>    </tr>    <tr>        <th class=\"index_name level0\" >Model</th>        <th class=\"blank\" ></th>    </tr></thead><tbody>\n",
       "                <tr>\n",
       "                        <th id=\"T_9c6bbeac_9afa_11eb_9445_c8e265328624level0_row0\" class=\"row_heading level0 row0\" >BOM</th>\n",
       "                        <td id=\"T_9c6bbeac_9afa_11eb_9445_c8e265328624row0_col0\" class=\"data row0 col0\" >6.39%</td>\n",
       "            </tr>\n",
       "            <tr>\n",
       "                        <th id=\"T_9c6bbeac_9afa_11eb_9445_c8e265328624level0_row1\" class=\"row_heading level0 row1\" >C3O</th>\n",
       "                        <td id=\"T_9c6bbeac_9afa_11eb_9445_c8e265328624row1_col0\" class=\"data row1 col0\" >2.61%</td>\n",
       "            </tr>\n",
       "            <tr>\n",
       "                        <th id=\"T_9c6bbeac_9afa_11eb_9445_c8e265328624level0_row2\" class=\"row_heading level0 row2\" >Ernest</th>\n",
       "                        <td id=\"T_9c6bbeac_9afa_11eb_9445_c8e265328624row2_col0\" class=\"data row2 col0\" >5.82%</td>\n",
       "            </tr>\n",
       "            <tr>\n",
       "                        <th id=\"T_9c6bbeac_9afa_11eb_9445_c8e265328624level0_row3\" class=\"row_heading level0 row3\" >GBM</th>\n",
       "                        <td id=\"T_9c6bbeac_9afa_11eb_9445_c8e265328624row3_col0\" class=\"data row3 col0\" >4.43%</td>\n",
       "            </tr>\n",
       "            <tr>\n",
       "                        <th id=\"T_9c6bbeac_9afa_11eb_9445_c8e265328624level0_row4\" class=\"row_heading level0 row4\" >OGB</th>\n",
       "                        <td id=\"T_9c6bbeac_9afa_11eb_9445_c8e265328624row4_col0\" class=\"data row4 col0\" >2.61%</td>\n",
       "            </tr>\n",
       "    </tbody></table>"
      ],
      "text/plain": [
       "<IPython.core.display.HTML object>"
      ]
     },
     "metadata": {},
     "output_type": "display_data"
    },
    {
     "data": {
      "text/html": [
       "<h3>Grep</h3><style  type=\"text/css\" >\n",
       "#T_9c72f6fe_9afa_11eb_9445_c8e265328624row0_col0,#T_9c72f6fe_9afa_11eb_9445_c8e265328624row1_col1,#T_9c72f6fe_9afa_11eb_9445_c8e265328624row2_col0,#T_9c72f6fe_9afa_11eb_9445_c8e265328624row3_col1,#T_9c72f6fe_9afa_11eb_9445_c8e265328624row4_col0{\n",
       "            color:  dimgray;\n",
       "        }#T_9c72f6fe_9afa_11eb_9445_c8e265328624row0_col1,#T_9c72f6fe_9afa_11eb_9445_c8e265328624row2_col1{\n",
       "            color:  black;\n",
       "        }#T_9c72f6fe_9afa_11eb_9445_c8e265328624row1_col0,#T_9c72f6fe_9afa_11eb_9445_c8e265328624row3_col0{\n",
       "            color:  black;\n",
       "            background-color:  aquamarine;\n",
       "            font-weight:  bold;\n",
       "        }#T_9c72f6fe_9afa_11eb_9445_c8e265328624row4_col1{\n",
       "            color:  black;\n",
       "            background-color:  aquamarine;\n",
       "        }</style><table id=\"T_9c72f6fe_9afa_11eb_9445_c8e265328624\" ><thead>    <tr>        <th class=\"blank level0\" ></th>        <th class=\"col_heading level0 col0\" >global</th>        <th class=\"col_heading level0 col1\" >local</th>    </tr>    <tr>        <th class=\"index_name level0\" >Model</th>        <th class=\"blank\" ></th>        <th class=\"blank\" ></th>    </tr></thead><tbody>\n",
       "                <tr>\n",
       "                        <th id=\"T_9c72f6fe_9afa_11eb_9445_c8e265328624level0_row0\" class=\"row_heading level0 row0\" >BOM</th>\n",
       "                        <td id=\"T_9c72f6fe_9afa_11eb_9445_c8e265328624row0_col0\" class=\"data row0 col0\" >12.95%</td>\n",
       "                        <td id=\"T_9c72f6fe_9afa_11eb_9445_c8e265328624row0_col1\" class=\"data row0 col1\" >6.45%</td>\n",
       "            </tr>\n",
       "            <tr>\n",
       "                        <th id=\"T_9c72f6fe_9afa_11eb_9445_c8e265328624level0_row1\" class=\"row_heading level0 row1\" >C3O</th>\n",
       "                        <td id=\"T_9c72f6fe_9afa_11eb_9445_c8e265328624row1_col0\" class=\"data row1 col0\" >2.74%</td>\n",
       "                        <td id=\"T_9c72f6fe_9afa_11eb_9445_c8e265328624row1_col1\" class=\"data row1 col1\" >5.05%</td>\n",
       "            </tr>\n",
       "            <tr>\n",
       "                        <th id=\"T_9c72f6fe_9afa_11eb_9445_c8e265328624level0_row2\" class=\"row_heading level0 row2\" >Ernest</th>\n",
       "                        <td id=\"T_9c72f6fe_9afa_11eb_9445_c8e265328624row2_col0\" class=\"data row2 col0\" >39.38%</td>\n",
       "                        <td id=\"T_9c72f6fe_9afa_11eb_9445_c8e265328624row2_col1\" class=\"data row2 col1\" >7.53%</td>\n",
       "            </tr>\n",
       "            <tr>\n",
       "                        <th id=\"T_9c72f6fe_9afa_11eb_9445_c8e265328624level0_row3\" class=\"row_heading level0 row3\" >GBM</th>\n",
       "                        <td id=\"T_9c72f6fe_9afa_11eb_9445_c8e265328624row3_col0\" class=\"data row3 col0\" >2.74%</td>\n",
       "                        <td id=\"T_9c72f6fe_9afa_11eb_9445_c8e265328624row3_col1\" class=\"data row3 col1\" >5.54%</td>\n",
       "            </tr>\n",
       "            <tr>\n",
       "                        <th id=\"T_9c72f6fe_9afa_11eb_9445_c8e265328624level0_row4\" class=\"row_heading level0 row4\" >OGB</th>\n",
       "                        <td id=\"T_9c72f6fe_9afa_11eb_9445_c8e265328624row4_col0\" class=\"data row4 col0\" >9.35%</td>\n",
       "                        <td id=\"T_9c72f6fe_9afa_11eb_9445_c8e265328624row4_col1\" class=\"data row4 col1\" >4.47%</td>\n",
       "            </tr>\n",
       "    </tbody></table>"
      ],
      "text/plain": [
       "<IPython.core.display.HTML object>"
      ]
     },
     "metadata": {},
     "output_type": "display_data"
    },
    {
     "data": {
      "text/html": [
       "<h3>SGDLR</h3><style  type=\"text/css\" >\n",
       "#T_9c799c52_9afa_11eb_9445_c8e265328624row0_col0,#T_9c799c52_9afa_11eb_9445_c8e265328624row1_col1,#T_9c799c52_9afa_11eb_9445_c8e265328624row2_col0,#T_9c799c52_9afa_11eb_9445_c8e265328624row3_col1,#T_9c799c52_9afa_11eb_9445_c8e265328624row4_col0{\n",
       "            color:  dimgray;\n",
       "        }#T_9c799c52_9afa_11eb_9445_c8e265328624row0_col1{\n",
       "            color:  black;\n",
       "            background-color:  aquamarine;\n",
       "        }#T_9c799c52_9afa_11eb_9445_c8e265328624row1_col0{\n",
       "            color:  black;\n",
       "            background-color:  aquamarine;\n",
       "            font-weight:  bold;\n",
       "        }#T_9c799c52_9afa_11eb_9445_c8e265328624row2_col1,#T_9c799c52_9afa_11eb_9445_c8e265328624row3_col0,#T_9c799c52_9afa_11eb_9445_c8e265328624row4_col1{\n",
       "            color:  black;\n",
       "        }</style><table id=\"T_9c799c52_9afa_11eb_9445_c8e265328624\" ><thead>    <tr>        <th class=\"blank level0\" ></th>        <th class=\"col_heading level0 col0\" >global</th>        <th class=\"col_heading level0 col1\" >local</th>    </tr>    <tr>        <th class=\"index_name level0\" >Model</th>        <th class=\"blank\" ></th>        <th class=\"blank\" ></th>    </tr></thead><tbody>\n",
       "                <tr>\n",
       "                        <th id=\"T_9c799c52_9afa_11eb_9445_c8e265328624level0_row0\" class=\"row_heading level0 row0\" >BOM</th>\n",
       "                        <td id=\"T_9c799c52_9afa_11eb_9445_c8e265328624row0_col0\" class=\"data row0 col0\" >12.66%</td>\n",
       "                        <td id=\"T_9c799c52_9afa_11eb_9445_c8e265328624row0_col1\" class=\"data row0 col1\" >6.04%</td>\n",
       "            </tr>\n",
       "            <tr>\n",
       "                        <th id=\"T_9c799c52_9afa_11eb_9445_c8e265328624level0_row1\" class=\"row_heading level0 row1\" >C3O</th>\n",
       "                        <td id=\"T_9c799c52_9afa_11eb_9445_c8e265328624row1_col0\" class=\"data row1 col0\" >2.25%</td>\n",
       "                        <td id=\"T_9c799c52_9afa_11eb_9445_c8e265328624row1_col1\" class=\"data row1 col1\" >6.22%</td>\n",
       "            </tr>\n",
       "            <tr>\n",
       "                        <th id=\"T_9c799c52_9afa_11eb_9445_c8e265328624level0_row2\" class=\"row_heading level0 row2\" >Ernest</th>\n",
       "                        <td id=\"T_9c799c52_9afa_11eb_9445_c8e265328624row2_col0\" class=\"data row2 col0\" >21.85%</td>\n",
       "                        <td id=\"T_9c799c52_9afa_11eb_9445_c8e265328624row2_col1\" class=\"data row2 col1\" >10.00%</td>\n",
       "            </tr>\n",
       "            <tr>\n",
       "                        <th id=\"T_9c799c52_9afa_11eb_9445_c8e265328624level0_row3\" class=\"row_heading level0 row3\" >GBM</th>\n",
       "                        <td id=\"T_9c799c52_9afa_11eb_9445_c8e265328624row3_col0\" class=\"data row3 col0\" >2.25%</td>\n",
       "                        <td id=\"T_9c799c52_9afa_11eb_9445_c8e265328624row3_col1\" class=\"data row3 col1\" >6.89%</td>\n",
       "            </tr>\n",
       "            <tr>\n",
       "                        <th id=\"T_9c799c52_9afa_11eb_9445_c8e265328624level0_row4\" class=\"row_heading level0 row4\" >OGB</th>\n",
       "                        <td id=\"T_9c799c52_9afa_11eb_9445_c8e265328624row4_col0\" class=\"data row4 col0\" >7.79%</td>\n",
       "                        <td id=\"T_9c799c52_9afa_11eb_9445_c8e265328624row4_col1\" class=\"data row4 col1\" >6.54%</td>\n",
       "            </tr>\n",
       "    </tbody></table>"
      ],
      "text/plain": [
       "<IPython.core.display.HTML object>"
      ]
     },
     "metadata": {},
     "output_type": "display_data"
    },
    {
     "data": {
      "text/html": [
       "<h3>K-Means</h3><style  type=\"text/css\" >\n",
       "#T_9c8013a2_9afa_11eb_9445_c8e265328624row0_col0,#T_9c8013a2_9afa_11eb_9445_c8e265328624row2_col0,#T_9c8013a2_9afa_11eb_9445_c8e265328624row3_col1,#T_9c8013a2_9afa_11eb_9445_c8e265328624row4_col1{\n",
       "            color:  dimgray;\n",
       "        }#T_9c8013a2_9afa_11eb_9445_c8e265328624row0_col1,#T_9c8013a2_9afa_11eb_9445_c8e265328624row2_col1,#T_9c8013a2_9afa_11eb_9445_c8e265328624row3_col0,#T_9c8013a2_9afa_11eb_9445_c8e265328624row4_col0{\n",
       "            color:  black;\n",
       "        }#T_9c8013a2_9afa_11eb_9445_c8e265328624row1_col0{\n",
       "            color:  black;\n",
       "            background-color:  aquamarine;\n",
       "            font-weight:  bold;\n",
       "        }#T_9c8013a2_9afa_11eb_9445_c8e265328624row1_col1{\n",
       "            color:  dimgray;\n",
       "            background-color:  aquamarine;\n",
       "        }</style><table id=\"T_9c8013a2_9afa_11eb_9445_c8e265328624\" ><thead>    <tr>        <th class=\"blank level0\" ></th>        <th class=\"col_heading level0 col0\" >global</th>        <th class=\"col_heading level0 col1\" >local</th>    </tr>    <tr>        <th class=\"index_name level0\" >Model</th>        <th class=\"blank\" ></th>        <th class=\"blank\" ></th>    </tr></thead><tbody>\n",
       "                <tr>\n",
       "                        <th id=\"T_9c8013a2_9afa_11eb_9445_c8e265328624level0_row0\" class=\"row_heading level0 row0\" >BOM</th>\n",
       "                        <td id=\"T_9c8013a2_9afa_11eb_9445_c8e265328624row0_col0\" class=\"data row0 col0\" >5.74%</td>\n",
       "                        <td id=\"T_9c8013a2_9afa_11eb_9445_c8e265328624row0_col1\" class=\"data row0 col1\" >5.51%</td>\n",
       "            </tr>\n",
       "            <tr>\n",
       "                        <th id=\"T_9c8013a2_9afa_11eb_9445_c8e265328624level0_row1\" class=\"row_heading level0 row1\" >C3O</th>\n",
       "                        <td id=\"T_9c8013a2_9afa_11eb_9445_c8e265328624row1_col0\" class=\"data row1 col0\" >2.17%</td>\n",
       "                        <td id=\"T_9c8013a2_9afa_11eb_9445_c8e265328624row1_col1\" class=\"data row1 col1\" >5.22%</td>\n",
       "            </tr>\n",
       "            <tr>\n",
       "                        <th id=\"T_9c8013a2_9afa_11eb_9445_c8e265328624level0_row2\" class=\"row_heading level0 row2\" >Ernest</th>\n",
       "                        <td id=\"T_9c8013a2_9afa_11eb_9445_c8e265328624row2_col0\" class=\"data row2 col0\" >15.31%</td>\n",
       "                        <td id=\"T_9c8013a2_9afa_11eb_9445_c8e265328624row2_col1\" class=\"data row2 col1\" >14.04%</td>\n",
       "            </tr>\n",
       "            <tr>\n",
       "                        <th id=\"T_9c8013a2_9afa_11eb_9445_c8e265328624level0_row3\" class=\"row_heading level0 row3\" >GBM</th>\n",
       "                        <td id=\"T_9c8013a2_9afa_11eb_9445_c8e265328624row3_col0\" class=\"data row3 col0\" >2.17%</td>\n",
       "                        <td id=\"T_9c8013a2_9afa_11eb_9445_c8e265328624row3_col1\" class=\"data row3 col1\" >8.60%</td>\n",
       "            </tr>\n",
       "            <tr>\n",
       "                        <th id=\"T_9c8013a2_9afa_11eb_9445_c8e265328624level0_row4\" class=\"row_heading level0 row4\" >OGB</th>\n",
       "                        <td id=\"T_9c8013a2_9afa_11eb_9445_c8e265328624row4_col0\" class=\"data row4 col0\" >5.50%</td>\n",
       "                        <td id=\"T_9c8013a2_9afa_11eb_9445_c8e265328624row4_col1\" class=\"data row4 col1\" >5.70%</td>\n",
       "            </tr>\n",
       "    </tbody></table>"
      ],
      "text/plain": [
       "<IPython.core.display.HTML object>"
      ]
     },
     "metadata": {},
     "output_type": "display_data"
    },
    {
     "data": {
      "text/html": [
       "<h3>Page Rank</h3><style  type=\"text/css\" >\n",
       "#T_9c8689a8_9afa_11eb_9445_c8e265328624row0_col0,#T_9c8689a8_9afa_11eb_9445_c8e265328624row1_col1,#T_9c8689a8_9afa_11eb_9445_c8e265328624row2_col0,#T_9c8689a8_9afa_11eb_9445_c8e265328624row3_col1,#T_9c8689a8_9afa_11eb_9445_c8e265328624row4_col1{\n",
       "            color:  dimgray;\n",
       "        }#T_9c8689a8_9afa_11eb_9445_c8e265328624row0_col1{\n",
       "            color:  black;\n",
       "            background-color:  aquamarine;\n",
       "        }#T_9c8689a8_9afa_11eb_9445_c8e265328624row1_col0,#T_9c8689a8_9afa_11eb_9445_c8e265328624row2_col1,#T_9c8689a8_9afa_11eb_9445_c8e265328624row4_col0{\n",
       "            color:  black;\n",
       "        }#T_9c8689a8_9afa_11eb_9445_c8e265328624row3_col0{\n",
       "            color:  black;\n",
       "            background-color:  aquamarine;\n",
       "            font-weight:  bold;\n",
       "        }</style><table id=\"T_9c8689a8_9afa_11eb_9445_c8e265328624\" ><thead>    <tr>        <th class=\"blank level0\" ></th>        <th class=\"col_heading level0 col0\" >global</th>        <th class=\"col_heading level0 col1\" >local</th>    </tr>    <tr>        <th class=\"index_name level0\" >Model</th>        <th class=\"blank\" ></th>        <th class=\"blank\" ></th>    </tr></thead><tbody>\n",
       "                <tr>\n",
       "                        <th id=\"T_9c8689a8_9afa_11eb_9445_c8e265328624level0_row0\" class=\"row_heading level0 row0\" >BOM</th>\n",
       "                        <td id=\"T_9c8689a8_9afa_11eb_9445_c8e265328624row0_col0\" class=\"data row0 col0\" >15.08%</td>\n",
       "                        <td id=\"T_9c8689a8_9afa_11eb_9445_c8e265328624row0_col1\" class=\"data row0 col1\" >3.99%</td>\n",
       "            </tr>\n",
       "            <tr>\n",
       "                        <th id=\"T_9c8689a8_9afa_11eb_9445_c8e265328624level0_row1\" class=\"row_heading level0 row1\" >C3O</th>\n",
       "                        <td id=\"T_9c8689a8_9afa_11eb_9445_c8e265328624row1_col0\" class=\"data row1 col0\" >2.77%</td>\n",
       "                        <td id=\"T_9c8689a8_9afa_11eb_9445_c8e265328624row1_col1\" class=\"data row1 col1\" >4.29%</td>\n",
       "            </tr>\n",
       "            <tr>\n",
       "                        <th id=\"T_9c8689a8_9afa_11eb_9445_c8e265328624level0_row2\" class=\"row_heading level0 row2\" >Ernest</th>\n",
       "                        <td id=\"T_9c8689a8_9afa_11eb_9445_c8e265328624row2_col0\" class=\"data row2 col0\" >34.85%</td>\n",
       "                        <td id=\"T_9c8689a8_9afa_11eb_9445_c8e265328624row2_col1\" class=\"data row2 col1\" >10.93%</td>\n",
       "            </tr>\n",
       "            <tr>\n",
       "                        <th id=\"T_9c8689a8_9afa_11eb_9445_c8e265328624level0_row3\" class=\"row_heading level0 row3\" >GBM</th>\n",
       "                        <td id=\"T_9c8689a8_9afa_11eb_9445_c8e265328624row3_col0\" class=\"data row3 col0\" >2.71%</td>\n",
       "                        <td id=\"T_9c8689a8_9afa_11eb_9445_c8e265328624row3_col1\" class=\"data row3 col1\" >5.25%</td>\n",
       "            </tr>\n",
       "            <tr>\n",
       "                        <th id=\"T_9c8689a8_9afa_11eb_9445_c8e265328624level0_row4\" class=\"row_heading level0 row4\" >OGB</th>\n",
       "                        <td id=\"T_9c8689a8_9afa_11eb_9445_c8e265328624row4_col0\" class=\"data row4 col0\" >3.17%</td>\n",
       "                        <td id=\"T_9c8689a8_9afa_11eb_9445_c8e265328624row4_col1\" class=\"data row4 col1\" >4.05%</td>\n",
       "            </tr>\n",
       "    </tbody></table>"
      ],
      "text/plain": [
       "<IPython.core.display.HTML object>"
      ]
     },
     "metadata": {},
     "output_type": "display_data"
    }
   ],
   "source": [
    "for job in jobs:\n",
    "    display_job_evaluation(job.name)"
   ]
  },
  {
   "cell_type": "markdown",
   "metadata": {},
   "source": [
    "### Updated Amount of Conducted Experiments per Evaluation Experiments Category"
   ]
  },
  {
   "cell_type": "code",
   "execution_count": 16,
   "metadata": {},
   "outputs": [
    {
     "data": {
      "text/html": [
       "<h3>Sort</h3><style  type=\"text/css\" >\n",
       "</style><table id=\"T_9c8da530_9afa_11eb_9445_c8e265328624\" ><thead>    <tr>        <th class=\"blank level0\" ></th>        <th class=\"col_heading level0 col0\" >global</th>    </tr>    <tr>        <th class=\"index_name level0\" >Model</th>        <th class=\"blank\" ></th>    </tr></thead><tbody>\n",
       "                <tr>\n",
       "                        <th id=\"T_9c8da530_9afa_11eb_9445_c8e265328624level0_row0\" class=\"row_heading level0 row0\" >BOM</th>\n",
       "                        <td id=\"T_9c8da530_9afa_11eb_9445_c8e265328624row0_col0\" class=\"data row0 col0\" >300</td>\n",
       "            </tr>\n",
       "            <tr>\n",
       "                        <th id=\"T_9c8da530_9afa_11eb_9445_c8e265328624level0_row1\" class=\"row_heading level0 row1\" >C3O</th>\n",
       "                        <td id=\"T_9c8da530_9afa_11eb_9445_c8e265328624row1_col0\" class=\"data row1 col0\" >300</td>\n",
       "            </tr>\n",
       "            <tr>\n",
       "                        <th id=\"T_9c8da530_9afa_11eb_9445_c8e265328624level0_row2\" class=\"row_heading level0 row2\" >Ernest</th>\n",
       "                        <td id=\"T_9c8da530_9afa_11eb_9445_c8e265328624row2_col0\" class=\"data row2 col0\" >300</td>\n",
       "            </tr>\n",
       "            <tr>\n",
       "                        <th id=\"T_9c8da530_9afa_11eb_9445_c8e265328624level0_row3\" class=\"row_heading level0 row3\" >GBM</th>\n",
       "                        <td id=\"T_9c8da530_9afa_11eb_9445_c8e265328624row3_col0\" class=\"data row3 col0\" >300</td>\n",
       "            </tr>\n",
       "            <tr>\n",
       "                        <th id=\"T_9c8da530_9afa_11eb_9445_c8e265328624level0_row4\" class=\"row_heading level0 row4\" >OGB</th>\n",
       "                        <td id=\"T_9c8da530_9afa_11eb_9445_c8e265328624row4_col0\" class=\"data row4 col0\" >300</td>\n",
       "            </tr>\n",
       "    </tbody></table>"
      ],
      "text/plain": [
       "<IPython.core.display.HTML object>"
      ]
     },
     "metadata": {},
     "output_type": "display_data"
    },
    {
     "data": {
      "text/html": [
       "<h3>Grep</h3><style  type=\"text/css\" >\n",
       "</style><table id=\"T_9c94ad12_9afa_11eb_9445_c8e265328624\" ><thead>    <tr>        <th class=\"blank level0\" ></th>        <th class=\"col_heading level0 col0\" >global</th>        <th class=\"col_heading level0 col1\" >local</th>    </tr>    <tr>        <th class=\"index_name level0\" >Model</th>        <th class=\"blank\" ></th>        <th class=\"blank\" ></th>    </tr></thead><tbody>\n",
       "                <tr>\n",
       "                        <th id=\"T_9c94ad12_9afa_11eb_9445_c8e265328624level0_row0\" class=\"row_heading level0 row0\" >BOM</th>\n",
       "                        <td id=\"T_9c94ad12_9afa_11eb_9445_c8e265328624row0_col0\" class=\"data row0 col0\" >300</td>\n",
       "                        <td id=\"T_9c94ad12_9afa_11eb_9445_c8e265328624row0_col1\" class=\"data row0 col1\" >300</td>\n",
       "            </tr>\n",
       "            <tr>\n",
       "                        <th id=\"T_9c94ad12_9afa_11eb_9445_c8e265328624level0_row1\" class=\"row_heading level0 row1\" >C3O</th>\n",
       "                        <td id=\"T_9c94ad12_9afa_11eb_9445_c8e265328624row1_col0\" class=\"data row1 col0\" >300</td>\n",
       "                        <td id=\"T_9c94ad12_9afa_11eb_9445_c8e265328624row1_col1\" class=\"data row1 col1\" >300</td>\n",
       "            </tr>\n",
       "            <tr>\n",
       "                        <th id=\"T_9c94ad12_9afa_11eb_9445_c8e265328624level0_row2\" class=\"row_heading level0 row2\" >Ernest</th>\n",
       "                        <td id=\"T_9c94ad12_9afa_11eb_9445_c8e265328624row2_col0\" class=\"data row2 col0\" >300</td>\n",
       "                        <td id=\"T_9c94ad12_9afa_11eb_9445_c8e265328624row2_col1\" class=\"data row2 col1\" >300</td>\n",
       "            </tr>\n",
       "            <tr>\n",
       "                        <th id=\"T_9c94ad12_9afa_11eb_9445_c8e265328624level0_row3\" class=\"row_heading level0 row3\" >GBM</th>\n",
       "                        <td id=\"T_9c94ad12_9afa_11eb_9445_c8e265328624row3_col0\" class=\"data row3 col0\" >300</td>\n",
       "                        <td id=\"T_9c94ad12_9afa_11eb_9445_c8e265328624row3_col1\" class=\"data row3 col1\" >300</td>\n",
       "            </tr>\n",
       "            <tr>\n",
       "                        <th id=\"T_9c94ad12_9afa_11eb_9445_c8e265328624level0_row4\" class=\"row_heading level0 row4\" >OGB</th>\n",
       "                        <td id=\"T_9c94ad12_9afa_11eb_9445_c8e265328624row4_col0\" class=\"data row4 col0\" >300</td>\n",
       "                        <td id=\"T_9c94ad12_9afa_11eb_9445_c8e265328624row4_col1\" class=\"data row4 col1\" >300</td>\n",
       "            </tr>\n",
       "    </tbody></table>"
      ],
      "text/plain": [
       "<IPython.core.display.HTML object>"
      ]
     },
     "metadata": {},
     "output_type": "display_data"
    },
    {
     "data": {
      "text/html": [
       "<h3>SGDLR</h3><style  type=\"text/css\" >\n",
       "</style><table id=\"T_9c9a889a_9afa_11eb_9445_c8e265328624\" ><thead>    <tr>        <th class=\"blank level0\" ></th>        <th class=\"col_heading level0 col0\" >global</th>        <th class=\"col_heading level0 col1\" >local</th>    </tr>    <tr>        <th class=\"index_name level0\" >Model</th>        <th class=\"blank\" ></th>        <th class=\"blank\" ></th>    </tr></thead><tbody>\n",
       "                <tr>\n",
       "                        <th id=\"T_9c9a889a_9afa_11eb_9445_c8e265328624level0_row0\" class=\"row_heading level0 row0\" >BOM</th>\n",
       "                        <td id=\"T_9c9a889a_9afa_11eb_9445_c8e265328624row0_col0\" class=\"data row0 col0\" >300</td>\n",
       "                        <td id=\"T_9c9a889a_9afa_11eb_9445_c8e265328624row0_col1\" class=\"data row0 col1\" >300</td>\n",
       "            </tr>\n",
       "            <tr>\n",
       "                        <th id=\"T_9c9a889a_9afa_11eb_9445_c8e265328624level0_row1\" class=\"row_heading level0 row1\" >C3O</th>\n",
       "                        <td id=\"T_9c9a889a_9afa_11eb_9445_c8e265328624row1_col0\" class=\"data row1 col0\" >300</td>\n",
       "                        <td id=\"T_9c9a889a_9afa_11eb_9445_c8e265328624row1_col1\" class=\"data row1 col1\" >300</td>\n",
       "            </tr>\n",
       "            <tr>\n",
       "                        <th id=\"T_9c9a889a_9afa_11eb_9445_c8e265328624level0_row2\" class=\"row_heading level0 row2\" >Ernest</th>\n",
       "                        <td id=\"T_9c9a889a_9afa_11eb_9445_c8e265328624row2_col0\" class=\"data row2 col0\" >300</td>\n",
       "                        <td id=\"T_9c9a889a_9afa_11eb_9445_c8e265328624row2_col1\" class=\"data row2 col1\" >300</td>\n",
       "            </tr>\n",
       "            <tr>\n",
       "                        <th id=\"T_9c9a889a_9afa_11eb_9445_c8e265328624level0_row3\" class=\"row_heading level0 row3\" >GBM</th>\n",
       "                        <td id=\"T_9c9a889a_9afa_11eb_9445_c8e265328624row3_col0\" class=\"data row3 col0\" >300</td>\n",
       "                        <td id=\"T_9c9a889a_9afa_11eb_9445_c8e265328624row3_col1\" class=\"data row3 col1\" >300</td>\n",
       "            </tr>\n",
       "            <tr>\n",
       "                        <th id=\"T_9c9a889a_9afa_11eb_9445_c8e265328624level0_row4\" class=\"row_heading level0 row4\" >OGB</th>\n",
       "                        <td id=\"T_9c9a889a_9afa_11eb_9445_c8e265328624row4_col0\" class=\"data row4 col0\" >300</td>\n",
       "                        <td id=\"T_9c9a889a_9afa_11eb_9445_c8e265328624row4_col1\" class=\"data row4 col1\" >300</td>\n",
       "            </tr>\n",
       "    </tbody></table>"
      ],
      "text/plain": [
       "<IPython.core.display.HTML object>"
      ]
     },
     "metadata": {},
     "output_type": "display_data"
    },
    {
     "data": {
      "text/html": [
       "<h3>K-Means</h3><style  type=\"text/css\" >\n",
       "</style><table id=\"T_9ca07318_9afa_11eb_9445_c8e265328624\" ><thead>    <tr>        <th class=\"blank level0\" ></th>        <th class=\"col_heading level0 col0\" >global</th>        <th class=\"col_heading level0 col1\" >local</th>    </tr>    <tr>        <th class=\"index_name level0\" >Model</th>        <th class=\"blank\" ></th>        <th class=\"blank\" ></th>    </tr></thead><tbody>\n",
       "                <tr>\n",
       "                        <th id=\"T_9ca07318_9afa_11eb_9445_c8e265328624level0_row0\" class=\"row_heading level0 row0\" >BOM</th>\n",
       "                        <td id=\"T_9ca07318_9afa_11eb_9445_c8e265328624row0_col0\" class=\"data row0 col0\" >300</td>\n",
       "                        <td id=\"T_9ca07318_9afa_11eb_9445_c8e265328624row0_col1\" class=\"data row0 col1\" >300</td>\n",
       "            </tr>\n",
       "            <tr>\n",
       "                        <th id=\"T_9ca07318_9afa_11eb_9445_c8e265328624level0_row1\" class=\"row_heading level0 row1\" >C3O</th>\n",
       "                        <td id=\"T_9ca07318_9afa_11eb_9445_c8e265328624row1_col0\" class=\"data row1 col0\" >300</td>\n",
       "                        <td id=\"T_9ca07318_9afa_11eb_9445_c8e265328624row1_col1\" class=\"data row1 col1\" >300</td>\n",
       "            </tr>\n",
       "            <tr>\n",
       "                        <th id=\"T_9ca07318_9afa_11eb_9445_c8e265328624level0_row2\" class=\"row_heading level0 row2\" >Ernest</th>\n",
       "                        <td id=\"T_9ca07318_9afa_11eb_9445_c8e265328624row2_col0\" class=\"data row2 col0\" >300</td>\n",
       "                        <td id=\"T_9ca07318_9afa_11eb_9445_c8e265328624row2_col1\" class=\"data row2 col1\" >300</td>\n",
       "            </tr>\n",
       "            <tr>\n",
       "                        <th id=\"T_9ca07318_9afa_11eb_9445_c8e265328624level0_row3\" class=\"row_heading level0 row3\" >GBM</th>\n",
       "                        <td id=\"T_9ca07318_9afa_11eb_9445_c8e265328624row3_col0\" class=\"data row3 col0\" >300</td>\n",
       "                        <td id=\"T_9ca07318_9afa_11eb_9445_c8e265328624row3_col1\" class=\"data row3 col1\" >300</td>\n",
       "            </tr>\n",
       "            <tr>\n",
       "                        <th id=\"T_9ca07318_9afa_11eb_9445_c8e265328624level0_row4\" class=\"row_heading level0 row4\" >OGB</th>\n",
       "                        <td id=\"T_9ca07318_9afa_11eb_9445_c8e265328624row4_col0\" class=\"data row4 col0\" >300</td>\n",
       "                        <td id=\"T_9ca07318_9afa_11eb_9445_c8e265328624row4_col1\" class=\"data row4 col1\" >300</td>\n",
       "            </tr>\n",
       "    </tbody></table>"
      ],
      "text/plain": [
       "<IPython.core.display.HTML object>"
      ]
     },
     "metadata": {},
     "output_type": "display_data"
    },
    {
     "data": {
      "text/html": [
       "<h3>Page Rank</h3><style  type=\"text/css\" >\n",
       "</style><table id=\"T_9ca666b0_9afa_11eb_9445_c8e265328624\" ><thead>    <tr>        <th class=\"blank level0\" ></th>        <th class=\"col_heading level0 col0\" >global</th>        <th class=\"col_heading level0 col1\" >local</th>    </tr>    <tr>        <th class=\"index_name level0\" >Model</th>        <th class=\"blank\" ></th>        <th class=\"blank\" ></th>    </tr></thead><tbody>\n",
       "                <tr>\n",
       "                        <th id=\"T_9ca666b0_9afa_11eb_9445_c8e265328624level0_row0\" class=\"row_heading level0 row0\" >BOM</th>\n",
       "                        <td id=\"T_9ca666b0_9afa_11eb_9445_c8e265328624row0_col0\" class=\"data row0 col0\" >300</td>\n",
       "                        <td id=\"T_9ca666b0_9afa_11eb_9445_c8e265328624row0_col1\" class=\"data row0 col1\" >300</td>\n",
       "            </tr>\n",
       "            <tr>\n",
       "                        <th id=\"T_9ca666b0_9afa_11eb_9445_c8e265328624level0_row1\" class=\"row_heading level0 row1\" >C3O</th>\n",
       "                        <td id=\"T_9ca666b0_9afa_11eb_9445_c8e265328624row1_col0\" class=\"data row1 col0\" >300</td>\n",
       "                        <td id=\"T_9ca666b0_9afa_11eb_9445_c8e265328624row1_col1\" class=\"data row1 col1\" >300</td>\n",
       "            </tr>\n",
       "            <tr>\n",
       "                        <th id=\"T_9ca666b0_9afa_11eb_9445_c8e265328624level0_row2\" class=\"row_heading level0 row2\" >Ernest</th>\n",
       "                        <td id=\"T_9ca666b0_9afa_11eb_9445_c8e265328624row2_col0\" class=\"data row2 col0\" >300</td>\n",
       "                        <td id=\"T_9ca666b0_9afa_11eb_9445_c8e265328624row2_col1\" class=\"data row2 col1\" >300</td>\n",
       "            </tr>\n",
       "            <tr>\n",
       "                        <th id=\"T_9ca666b0_9afa_11eb_9445_c8e265328624level0_row3\" class=\"row_heading level0 row3\" >GBM</th>\n",
       "                        <td id=\"T_9ca666b0_9afa_11eb_9445_c8e265328624row3_col0\" class=\"data row3 col0\" >300</td>\n",
       "                        <td id=\"T_9ca666b0_9afa_11eb_9445_c8e265328624row3_col1\" class=\"data row3 col1\" >300</td>\n",
       "            </tr>\n",
       "            <tr>\n",
       "                        <th id=\"T_9ca666b0_9afa_11eb_9445_c8e265328624level0_row4\" class=\"row_heading level0 row4\" >OGB</th>\n",
       "                        <td id=\"T_9ca666b0_9afa_11eb_9445_c8e265328624row4_col0\" class=\"data row4 col0\" >300</td>\n",
       "                        <td id=\"T_9ca666b0_9afa_11eb_9445_c8e265328624row4_col1\" class=\"data row4 col1\" >300</td>\n",
       "            </tr>\n",
       "    </tbody></table>"
      ],
      "text/plain": [
       "<IPython.core.display.HTML object>"
      ]
     },
     "metadata": {},
     "output_type": "display_data"
    }
   ],
   "source": [
    "for job in jobs:\n",
    "    display_evaluation_counts(job.name)"
   ]
  }
 ],
 "metadata": {
  "kernelspec": {
   "display_name": "Python 3",
   "language": "python",
   "name": "python3"
  },
  "language_info": {
   "codemirror_mode": {
    "name": "ipython",
    "version": 3
   },
   "file_extension": ".py",
   "mimetype": "text/x-python",
   "name": "python",
   "nbconvert_exporter": "python",
   "pygments_lexer": "ipython3",
   "version": "3.9.2"
  }
 },
 "nbformat": 4,
 "nbformat_minor": 4
}
